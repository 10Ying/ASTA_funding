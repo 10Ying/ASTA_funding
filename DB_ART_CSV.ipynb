{
 "cells": [
  {
   "cell_type": "markdown",
   "metadata": {},
   "source": [
    "# Overview\n",
    "#### Context\n",
    "\n",
    "Dataset comes from the data center of ASTA funding.\n",
    "Export the dataset from MySQL, saved as a .csv file.\n",
    "\n",
    "#### Content\n",
    "\n",
    "The original file is a csv file contains 1570 rows and 14 columns, in this project, we focus on the 'ART_APP_QUSORC' column for the raw text of the message. \n",
    "\n",
    "# Approach\n",
    "* Environment Configuration\n",
    "\n",
    "\n",
    "* Loading Data\n",
    "\n",
    "\n",
    "* Text Processing"
   ]
  },
  {
   "cell_type": "markdown",
   "metadata": {},
   "source": [
    "## Environment Configuration"
   ]
  },
  {
   "cell_type": "code",
   "execution_count": 1,
   "metadata": {},
   "outputs": [
    {
     "name": "stdout",
     "output_type": "stream",
     "text": [
      "/opt/anaconda3/bin/python\n"
     ]
    }
   ],
   "source": [
    "# Show the absolute path of the executable binary for the Python interpreter.\n",
    "import sys\n",
    "print(sys.executable)"
   ]
  },
  {
   "cell_type": "code",
   "execution_count": 2,
   "metadata": {},
   "outputs": [],
   "source": [
    "import pymysql\n",
    "import pandas as pd\n",
    "import numpy as np\n",
    "import nltk\n",
    "import re\n",
    "import os\n",
    "from wordcloud import WordCloud\n",
    "from nltk.stem.porter import PorterStemmer\n",
    "from sklearn.feature_extraction.text import TfidfVectorizer\n",
    "from nltk.corpus import stopwords"
   ]
  },
  {
   "cell_type": "markdown",
   "metadata": {},
   "source": [
    "## Loading Data"
   ]
  },
  {
   "cell_type": "code",
   "execution_count": 3,
   "metadata": {},
   "outputs": [
    {
     "name": "stderr",
     "output_type": "stream",
     "text": [
      "b'Skipping line 612: expected 13 fields, saw 16\\nSkipping line 698: expected 13 fields, saw 16\\n'\n"
     ]
    }
   ],
   "source": [
    "art = pd.read_csv('xx.csv', encoding = 'latin-1', error_bad_lines=False)[['ART_APP_ID','ART_APP_QUSORC']]"
   ]
  },
  {
   "cell_type": "code",
   "execution_count": 4,
   "metadata": {},
   "outputs": [
    {
     "data": {
      "text/html": [
       "<div>\n",
       "<style scoped>\n",
       "    .dataframe tbody tr th:only-of-type {\n",
       "        vertical-align: middle;\n",
       "    }\n",
       "\n",
       "    .dataframe tbody tr th {\n",
       "        vertical-align: top;\n",
       "    }\n",
       "\n",
       "    .dataframe thead th {\n",
       "        text-align: right;\n",
       "    }\n",
       "</style>\n",
       "<table border=\"1\" class=\"dataframe\">\n",
       "  <thead>\n",
       "    <tr style=\"text-align: right;\">\n",
       "      <th></th>\n",
       "      <th>ART_APP_ID</th>\n",
       "      <th>ART_APP_QUSORC</th>\n",
       "    </tr>\n",
       "  </thead>\n",
       "  <tbody>\n",
       "    <tr>\n",
       "      <th>0</th>\n",
       "      <td>69</td>\n",
       "      <td>NaN</td>\n",
       "    </tr>\n",
       "    <tr>\n",
       "      <th>1</th>\n",
       "      <td>402</td>\n",
       "      <td>\\r\\nhttp://bit.ly/2DLTOpV \\r\\n\\r\\nHello to al...</td>\n",
       "    </tr>\n",
       "    <tr>\n",
       "      <th>2</th>\n",
       "      <td>640</td>\n",
       "      <td>Disclaimer statement: We are not legally liabl...</td>\n",
       "    </tr>\n",
       "    <tr>\n",
       "      <th>3</th>\n",
       "      <td>680</td>\n",
       "      <td>baise sur tabouret &lt;A HREF='https://rencontre-...</td>\n",
       "    </tr>\n",
       "    <tr>\n",
       "      <th>4</th>\n",
       "      <td>688</td>\n",
       "      <td>Hello there, My name is Aly and I would like t...</td>\n",
       "    </tr>\n",
       "  </tbody>\n",
       "</table>\n",
       "</div>"
      ],
      "text/plain": [
       "  ART_APP_ID                                     ART_APP_QUSORC\n",
       "0         69                                                NaN\n",
       "1        402   \\r\\nhttp://bit.ly/2DLTOpV \\r\\n\\r\\nHello to al...\n",
       "2        640  Disclaimer statement: We are not legally liabl...\n",
       "3        680  baise sur tabouret <A HREF='https://rencontre-...\n",
       "4        688  Hello there, My name is Aly and I would like t..."
      ]
     },
     "execution_count": 4,
     "metadata": {},
     "output_type": "execute_result"
    }
   ],
   "source": [
    "art.head()"
   ]
  },
  {
   "cell_type": "code",
   "execution_count": 5,
   "metadata": {},
   "outputs": [
    {
     "data": {
      "text/plain": [
       "1570"
      ]
     },
     "execution_count": 5,
     "metadata": {},
     "output_type": "execute_result"
    }
   ],
   "source": [
    "art.size"
   ]
  },
  {
   "cell_type": "markdown",
   "metadata": {},
   "source": [
    "## Text Processing"
   ]
  },
  {
   "cell_type": "code",
   "execution_count": 6,
   "metadata": {},
   "outputs": [
    {
     "data": {
      "text/html": [
       "<div>\n",
       "<style scoped>\n",
       "    .dataframe tbody tr th:only-of-type {\n",
       "        vertical-align: middle;\n",
       "    }\n",
       "\n",
       "    .dataframe tbody tr th {\n",
       "        vertical-align: top;\n",
       "    }\n",
       "\n",
       "    .dataframe thead th {\n",
       "        text-align: right;\n",
       "    }\n",
       "</style>\n",
       "<table border=\"1\" class=\"dataframe\">\n",
       "  <thead>\n",
       "    <tr style=\"text-align: right;\">\n",
       "      <th></th>\n",
       "      <th>ID</th>\n",
       "      <th>Email</th>\n",
       "    </tr>\n",
       "  </thead>\n",
       "  <tbody>\n",
       "    <tr>\n",
       "      <th>100</th>\n",
       "      <td>778</td>\n",
       "      <td>\\r\\nDelivery Club â ??????????? ??????, ???...</td>\n",
       "    </tr>\n",
       "    <tr>\n",
       "      <th>101</th>\n",
       "      <td>779</td>\n",
       "      <td>Melde dich Wen du in der N?Â¤he von lichtenber...</td>\n",
       "    </tr>\n",
       "    <tr>\n",
       "      <th>102</th>\n",
       "      <td>780</td>\n",
       "      <td>Push the Download Now\" button to download &lt;b&gt;E...</td>\n",
       "    </tr>\n",
       "    <tr>\n",
       "      <th>103</th>\n",
       "      <td>It will just take a few moments.</td>\n",
       "      <td>NaN</td>\n",
       "    </tr>\n",
       "    <tr>\n",
       "      <th>104</th>\n",
       "      <td>&lt;a href=https://crackpluskeygen.org/software?q...</td>\n",
       "      <td>NaN</td>\n",
       "    </tr>\n",
       "    <tr>\n",
       "      <th>105</th>\n",
       "      <td>A powerful audio synthesizer t\"</td>\n",
       "      <td>NaN</td>\n",
       "    </tr>\n",
       "    <tr>\n",
       "      <th>106</th>\n",
       "      <td>781</td>\n",
       "      <td>??? ??????? ?????????? ????????.&lt;a href=http:/...</td>\n",
       "    </tr>\n",
       "    <tr>\n",
       "      <th>107</th>\n",
       "      <td>782</td>\n",
       "      <td>We would like to inform that you liked a comme...</td>\n",
       "    </tr>\n",
       "    <tr>\n",
       "      <th>108</th>\n",
       "      <td>783</td>\n",
       "      <td>hi there \\r\\nWe all know there are no tricks w...</td>\n",
       "    </tr>\n",
       "    <tr>\n",
       "      <th>109</th>\n",
       "      <td>784</td>\n",
       "      <td>\\r\\nhttp://prooknann.ru/Moskitnye-setki.html ...</td>\n",
       "    </tr>\n",
       "  </tbody>\n",
       "</table>\n",
       "</div>"
      ],
      "text/plain": [
       "                                                    ID  \\\n",
       "100                                                778   \n",
       "101                                                779   \n",
       "102                                                780   \n",
       "103                  It will just take a few moments.    \n",
       "104  <a href=https://crackpluskeygen.org/software?q...   \n",
       "105                    A powerful audio synthesizer t\"   \n",
       "106                                                781   \n",
       "107                                                782   \n",
       "108                                                783   \n",
       "109                                                784   \n",
       "\n",
       "                                                 Email  \n",
       "100   \\r\\nDelivery Club â ??????????? ??????, ???...  \n",
       "101  Melde dich Wen du in der N?Â¤he von lichtenber...  \n",
       "102  Push the Download Now\" button to download <b>E...  \n",
       "103                                                NaN  \n",
       "104                                                NaN  \n",
       "105                                                NaN  \n",
       "106  ??? ??????? ?????????? ????????.<a href=http:/...  \n",
       "107  We would like to inform that you liked a comme...  \n",
       "108  hi there \\r\\nWe all know there are no tricks w...  \n",
       "109   \\r\\nhttp://prooknann.ru/Moskitnye-setki.html ...  "
      ]
     },
     "execution_count": 6,
     "metadata": {},
     "output_type": "execute_result"
    }
   ],
   "source": [
    "# Rename varibles and print a piece of data.\n",
    "art = art.rename(columns = {\"ART_APP_ID\" : \"ID\", \"ART_APP_QUSORC\":\"Email\"})\n",
    "art[100: 110]"
   ]
  },
  {
   "cell_type": "code",
   "execution_count": 7,
   "metadata": {},
   "outputs": [],
   "source": [
    "# Build a corpus\n",
    "corpus = []\n",
    "ps = PorterStemmer()"
   ]
  },
  {
   "cell_type": "code",
   "execution_count": 8,
   "metadata": {},
   "outputs": [
    {
     "name": "stdout",
     "output_type": "stream",
     "text": [
      "nan\n",
      "\r\n",
      " \r\n",
      "http://bit.ly/2DLTOpV \r\n",
      "\r\n",
      "Hello to all! I'm looking for people who would like to start earning online! Start is very simple, you just need to install the browser at and use it as the main one. It is very easy, convenient and fast - you will love workin\n",
      "\r\n",
      "Disclaimer statement: We are not legally liable for any losses or damages that you may incur due to the expiration of arthurfunding.com. Such losses may include but are not limited to: financial loss, deleted data, downgrade of search rankings, missed cu\n",
      "\r\n",
      "baise sur tabouret <A HREF='https://rencontre-gratuite.oleificiodiseneghe.it/rencontre-gratuite-telephone.html'>rencontre gratuite telephone</A> pute \r\n",
      "en caravane <a href='https://site-de-rencontres.oleificiodiseneghe.it/site-de-rencontre-gitan.html'>\n",
      "\r\n",
      "Hello there, My name is Aly and I would like to know if you would have any interest to have your website here at arthurfunding.com  promoted as a resource on our blog alychidesign.com ?\r\n",
      "\r\n",
      " We are  updating our do-follow broken link resources to include c\n",
      "\r\n",
      "Disclaimer statement: We are not legally liable for any losses or damages that you may incur due to the expiration of arthurfunding.com. Such losses may include but are not limited to: financial loss, deleted data, downgrade of search rankings, missed cu\n",
      "\r\n",
      "Hello arthurfunding.com,\r\n",
      "\r\n",
      "People ask, âwhy does TalkWithCustomer work so well?â\r\n",
      "\r\n",
      "Itâs simple.\r\n",
      "\r\n",
      "TalkWithCustomer enables you to connect with a prospective customer at EXACTLY the Perfect Time.\r\n",
      "\r\n",
      "- NOT one week, two weeks, three weeks after theyâve c\n",
      "\r\n",
      "Hi, letting you know that http://Business-Capital-Advisors.com can find your business a SBA or private loan for $2,000 - $350K Without high credit or collateral. \r\n",
      " \r\n",
      "Find Out how much you qualify for by clicking here: \r\n",
      " \r\n",
      "http://Business-Capital-Advisor\n",
      "\r\n",
      "Ciao!  arthurfunding.com \r\n",
      " \r\n",
      "We make offer for you \r\n",
      " \r\n",
      "Sending your commercial offer through the Contact us form which can be found on the sites in the Communication section. Contact form are filled in by our application and the captcha is solved. The p\n",
      "\r\n",
      "Hi, letting you know that http://Get-Business-Funded-Now.com can find your business a SBA or private loan for $2,000 - $350K Without high credit or collateral. \r\n",
      " \r\n",
      "Find Out how much you qualify for by clicking here: \r\n",
      " \r\n",
      "http://Get-Business-Funded-Now.co\n",
      "\r\n"
     ]
    }
   ],
   "source": [
    "# Show original Messages(top 10)\n",
    "for i in range(10):\n",
    "    print (art['Email'][i])\n",
    "    print('\\r')"
   ]
  },
  {
   "cell_type": "code",
   "execution_count": 9,
   "metadata": {},
   "outputs": [
    {
     "data": {
      "text/plain": [
       "(785, 3495)"
      ]
     },
     "execution_count": 9,
     "metadata": {},
     "output_type": "execute_result"
    }
   ],
   "source": [
    "# Vectorized text\n",
    "v = TfidfVectorizer(decode_error='replace', encoding='utf-8')\n",
    "vectors = v.fit_transform(art['Email'].apply(lambda x: np.str_(x)))\n",
    "vectors.shape"
   ]
  },
  {
   "cell_type": "markdown",
   "metadata": {},
   "source": [
    "#### Process the text."
   ]
  },
  {
   "cell_type": "code",
   "execution_count": 10,
   "metadata": {},
   "outputs": [
    {
     "name": "stdout",
     "output_type": "stream",
     "text": [
      "\t\t\t\t\t MESSAGE  0\n",
      "\n",
      " After Regular Expression - Message  0  :  nan\n",
      "\n",
      " Lower case Message  0  :  nan\n",
      "\n",
      " After Splitting - Message  0  :  ['nan']\n",
      "\n",
      " After Stemming - Message  0  :  ['nan']\n",
      "\n",
      " Final Prepared - Message  0  :  nan \n",
      "\n",
      "\n",
      "\t\t\t\t\t MESSAGE  1\n",
      "\n",
      " After Regular Expression - Message  1  :   \r\n",
      "http   bit ly 2DLTOpV \r\n",
      "\r\n",
      "Hello to all  I m looking for people who would like to start earning online  Start is very simple  you just need to install the browser at and use it as the main one  It is very easy  convenient and fast   you will love workin\n",
      "\n",
      " Lower case Message  1  :   \r\n",
      "http   bit ly 2dltopv \r\n",
      "\r\n",
      "hello to all  i m looking for people who would like to start earning online  start is very simple  you just need to install the browser at and use it as the main one  it is very easy  convenient and fast   you will love workin\n",
      "\n",
      " After Splitting - Message  1  :  ['http', 'bit', 'ly', '2dltopv', 'hello', 'to', 'all', 'i', 'm', 'looking', 'for', 'people', 'who', 'would', 'like', 'to', 'start', 'earning', 'online', 'start', 'is', 'very', 'simple', 'you', 'just', 'need', 'to', 'install', 'the', 'browser', 'at', 'and', 'use', 'it', 'as', 'the', 'main', 'one', 'it', 'is', 'very', 'easy', 'convenient', 'and', 'fast', 'you', 'will', 'love', 'workin']\n",
      "\n",
      " After Stemming - Message  1  :  ['http', 'bit', 'ly', '2dltopv', 'hello', 'look', 'peopl', 'would', 'like', 'start', 'earn', 'onlin', 'start', 'simpl', 'need', 'instal', 'browser', 'use', 'main', 'one', 'easi', 'conveni', 'fast', 'love', 'workin']\n",
      "\n",
      " Final Prepared - Message  1  :  http bit ly 2dltopv hello look peopl would like start earn onlin start simpl need instal browser use main one easi conveni fast love workin \n",
      "\n",
      "\n"
     ]
    }
   ],
   "source": [
    "for i in range(0, len(art.Email)):\n",
    "\n",
    "    # Applying Regular Expression\n",
    "    \n",
    "    '''\n",
    "    Replace email addresses with 'emailaddr'\n",
    "    Replace URLs with 'httpaddr'\n",
    "    Replace money symbols with 'moneysymb'\n",
    "    Replace phone numbers with 'phonenumbr'\n",
    "    Replace numbers with 'numbr'\n",
    "    '''\n",
    "    msg = art['Email'][i]\n",
    "    msg = re.sub('\\b[\\w\\-.]+?@\\w+?\\.\\w{2,4}\\b', 'emailaddr', str(art['Email'][i]))\n",
    "    msg = re.sub('(http[s]?\\S+)|(\\w+\\.[A-Za-z]{2,4}\\S*)', 'httpaddr', str(art['Email'][i]))\n",
    "    msg = re.sub('£|\\$', 'moneysymb', str(art['Email'][i]))\n",
    "    msg = re.sub('\\b(\\+\\d{1,2}\\s)?\\d?[\\-(.]?\\d{3}\\)?[\\s.-]?\\d{3}[\\s.-]?\\d{4}\\b', 'phonenumbr', str(art['Email'][i]))\n",
    "    msg = re.sub('\\d+(\\.\\d+)?', 'numbr', str(art['Email'][i]))\n",
    "    \n",
    "    ''' Remove all punctuations '''\n",
    "    msg = re.sub('[^\\w\\d\\s]', ' ', str(art['Email'][i]))\n",
    "    \n",
    "    if i in range(2):\n",
    "        print(\"\\t\\t\\t\\t\\t MESSAGE \", i)\n",
    "    \n",
    "    if i in range(2):\n",
    "        print(\"\\n After Regular Expression - Message \", i, \" : \", msg)\n",
    "    \n",
    "    # Each word to lower case\n",
    "    msg = msg.lower()    \n",
    "    if i in range(2):\n",
    "        print(\"\\n Lower case Message \", i, \" : \", msg)\n",
    "    \n",
    "    # Splitting words to Tokenize\n",
    "    msg = msg.split()    \n",
    "    if i in range(2):\n",
    "        print(\"\\n After Splitting - Message \", i, \" : \", msg)\n",
    "    \n",
    "    # Stemming with PorterStemmer handling Stop Words\n",
    "    msg = [ps.stem(word) for word in msg if not word in set(stopwords.words('english'))]\n",
    "    if i in range(2):\n",
    "        print(\"\\n After Stemming - Message \", i, \" : \", msg)\n",
    "    \n",
    "    # preparing Messages with Remaining Tokens\n",
    "    msg = ' '.join(msg)\n",
    "    if i in range(2):\n",
    "        print(\"\\n Final Prepared - Message \", i, \" : \", msg, \"\\n\\n\")\n",
    "    \n",
    "    # Preparing WordVector Corpus\n",
    "    corpus.append(msg)"
   ]
  },
  {
   "cell_type": "code",
   "execution_count": null,
   "metadata": {},
   "outputs": [],
   "source": []
  }
 ],
 "metadata": {
  "kernelspec": {
   "display_name": "Python 3",
   "language": "python",
   "name": "python3"
  },
  "language_info": {
   "codemirror_mode": {
    "name": "ipython",
    "version": 3
   },
   "file_extension": ".py",
   "mimetype": "text/x-python",
   "name": "python",
   "nbconvert_exporter": "python",
   "pygments_lexer": "ipython3",
   "version": "3.7.4"
  }
 },
 "nbformat": 4,
 "nbformat_minor": 2
}
